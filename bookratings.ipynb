{
 "cells": [
  {
   "cell_type": "code",
   "execution_count": 25,
   "metadata": {},
   "outputs": [
    {
     "name": "stdout",
     "output_type": "stream",
     "text": [
      "         adventure1 adventure2 adventure3 romantic1 romantic2 romantic3\n",
      "0  user1          3          4          2       NaN         1         3\n",
      "1  user2          1          3          4         2         5       NaN\n",
      "2  user3          3        NaN        NaN         1         4         2\n",
      "3  user4        NaN          3          1         5       NaN         3\n",
      "4  user5          5        NaN          1         2         3         2\n"
     ]
    }
   ],
   "source": [
    "import pandas as pd\n",
    "data=[['user1',3.0,4.0,2.0,'NaN',1.0,3.0],['user2',1.0,3.0,4.0,2.0,5.0,'NaN'],['user3',3.0,'NaN','NaN',1.0,4.0,2.0],['user4','NaN',3.0,1.0,5.0,'NaN',3.0],['user5',5.0,'NaN',1.0,2.0,3.0,2.0]]\n",
    "df=pd.DataFrame(data,columns=[' ','adventure1','adventure2','adventure3','romantic1','romantic2','romantic3'])\n",
    "print(df)\n",
    "df.to_csv('bookratings.csv')"
   ]
  },
  {
   "cell_type": "code",
   "execution_count": 27,
   "metadata": {},
   "outputs": [],
   "source": []
  },
  {
   "cell_type": "code",
   "execution_count": null,
   "metadata": {},
   "outputs": [],
   "source": []
  },
  {
   "cell_type": "code",
   "execution_count": null,
   "metadata": {},
   "outputs": [],
   "source": []
  }
 ],
 "metadata": {
  "kernelspec": {
   "display_name": "Python 3",
   "language": "python",
   "name": "python3"
  },
  "language_info": {
   "codemirror_mode": {
    "name": "ipython",
    "version": 3
   },
   "file_extension": ".py",
   "mimetype": "text/x-python",
   "name": "python",
   "nbconvert_exporter": "python",
   "pygments_lexer": "ipython3",
   "version": "3.7.3"
  }
 },
 "nbformat": 4,
 "nbformat_minor": 2
}
